{
 "cells": [
  {
   "cell_type": "code",
   "execution_count": 1,
   "id": "cfd945bc",
   "metadata": {},
   "outputs": [],
   "source": [
    "#To allocate memorey for gpu(here we are using 50%)\n",
    "from tensorflow.compat.v1 import ConfigProto\n",
    "from tensorflow.compat.v1 import InteractiveSession\n",
    "\n",
    "config = ConfigProto()\n",
    "config.gpu_options.per_process_gpu_memory_fraction = 0.5\n",
    "config.gpu_options.allow_growth = True\n",
    "session = InteractiveSession(config=config)"
   ]
  },
  {
   "cell_type": "code",
   "execution_count": 2,
   "id": "162e1bef",
   "metadata": {},
   "outputs": [
    {
     "name": "stderr",
     "output_type": "stream",
     "text": [
      "Using TensorFlow backend.\n"
     ]
    }
   ],
   "source": [
    "from keras.layers import Input, Lambda, Dense, Flatten\n",
    "from keras.models import Model\n",
    "from keras.applications.vgg16 import VGG16\n",
    "from keras.preprocessing import image\n",
    "from keras.preprocessing.image import ImageDataGenerator,load_img\n",
    "from keras.models import Sequential"
   ]
  },
  {
   "cell_type": "code",
   "execution_count": 3,
   "id": "060fde3d",
   "metadata": {},
   "outputs": [],
   "source": [
    "import numpy as np\n",
    "from glob import glob"
   ]
  },
  {
   "cell_type": "code",
   "execution_count": 4,
   "id": "5ef17995",
   "metadata": {},
   "outputs": [],
   "source": [
    "#resize all images\n",
    "IMAGE_SIZE = [224,224]\n",
    "train_path = 'Train'\n",
    "test_path = 'Test'"
   ]
  },
  {
   "cell_type": "code",
   "execution_count": 5,
   "id": "8a68e24e",
   "metadata": {},
   "outputs": [],
   "source": [
    "vgg16 = VGG16(input_shape=IMAGE_SIZE + [3],weights='imagenet',include_top=False)"
   ]
  },
  {
   "cell_type": "code",
   "execution_count": 6,
   "id": "6a1660ae",
   "metadata": {},
   "outputs": [],
   "source": [
    "#dont train existing weights\n",
    "for layer in vgg16.layers:\n",
    "    layer.trainable = False"
   ]
  },
  {
   "cell_type": "code",
   "execution_count": 7,
   "id": "f43bf290",
   "metadata": {},
   "outputs": [
    {
     "data": {
      "text/plain": [
       "['train\\\\Birds', 'train\\\\Drones']"
      ]
     },
     "execution_count": 7,
     "metadata": {},
     "output_type": "execute_result"
    }
   ],
   "source": [
    "train_folders = glob('train/*')\n",
    "train_folders"
   ]
  },
  {
   "cell_type": "code",
   "execution_count": 8,
   "id": "c58f74e8",
   "metadata": {},
   "outputs": [
    {
     "data": {
      "text/plain": [
       "['test\\\\Birds', 'test\\\\Drones']"
      ]
     },
     "execution_count": 8,
     "metadata": {},
     "output_type": "execute_result"
    }
   ],
   "source": [
    "test_folders = glob('test/*')\n",
    "test_folders"
   ]
  },
  {
   "cell_type": "code",
   "execution_count": 9,
   "id": "2d48bac4",
   "metadata": {},
   "outputs": [],
   "source": [
    "#flattern layer\n",
    "x = Flatten()(vgg16.output)"
   ]
  },
  {
   "cell_type": "code",
   "execution_count": 18,
   "id": "e9da4202",
   "metadata": {},
   "outputs": [],
   "source": [
    "prediction = Dense(2,activation='softmax')(x)\n",
    "#create model\n",
    "model = Model(inputs=vgg16.input,outputs=prediction)"
   ]
  },
  {
   "cell_type": "code",
   "execution_count": 11,
   "id": "db413f9f",
   "metadata": {},
   "outputs": [
    {
     "name": "stdout",
     "output_type": "stream",
     "text": [
      "Model: \"model_1\"\n",
      "_________________________________________________________________\n",
      "Layer (type)                 Output Shape              Param #   \n",
      "=================================================================\n",
      "input_1 (InputLayer)         (None, 224, 224, 3)       0         \n",
      "_________________________________________________________________\n",
      "block1_conv1 (Conv2D)        (None, 224, 224, 64)      1792      \n",
      "_________________________________________________________________\n",
      "block1_conv2 (Conv2D)        (None, 224, 224, 64)      36928     \n",
      "_________________________________________________________________\n",
      "block1_pool (MaxPooling2D)   (None, 112, 112, 64)      0         \n",
      "_________________________________________________________________\n",
      "block2_conv1 (Conv2D)        (None, 112, 112, 128)     73856     \n",
      "_________________________________________________________________\n",
      "block2_conv2 (Conv2D)        (None, 112, 112, 128)     147584    \n",
      "_________________________________________________________________\n",
      "block2_pool (MaxPooling2D)   (None, 56, 56, 128)       0         \n",
      "_________________________________________________________________\n",
      "block3_conv1 (Conv2D)        (None, 56, 56, 256)       295168    \n",
      "_________________________________________________________________\n",
      "block3_conv2 (Conv2D)        (None, 56, 56, 256)       590080    \n",
      "_________________________________________________________________\n",
      "block3_conv3 (Conv2D)        (None, 56, 56, 256)       590080    \n",
      "_________________________________________________________________\n",
      "block3_pool (MaxPooling2D)   (None, 28, 28, 256)       0         \n",
      "_________________________________________________________________\n",
      "block4_conv1 (Conv2D)        (None, 28, 28, 512)       1180160   \n",
      "_________________________________________________________________\n",
      "block4_conv2 (Conv2D)        (None, 28, 28, 512)       2359808   \n",
      "_________________________________________________________________\n",
      "block4_conv3 (Conv2D)        (None, 28, 28, 512)       2359808   \n",
      "_________________________________________________________________\n",
      "block4_pool (MaxPooling2D)   (None, 14, 14, 512)       0         \n",
      "_________________________________________________________________\n",
      "block5_conv1 (Conv2D)        (None, 14, 14, 512)       2359808   \n",
      "_________________________________________________________________\n",
      "block5_conv2 (Conv2D)        (None, 14, 14, 512)       2359808   \n",
      "_________________________________________________________________\n",
      "block5_conv3 (Conv2D)        (None, 14, 14, 512)       2359808   \n",
      "_________________________________________________________________\n",
      "block5_pool (MaxPooling2D)   (None, 7, 7, 512)         0         \n",
      "_________________________________________________________________\n",
      "flatten_1 (Flatten)          (None, 25088)             0         \n",
      "_________________________________________________________________\n",
      "dense_1 (Dense)              (None, 4)                 100356    \n",
      "=================================================================\n",
      "Total params: 14,815,044\n",
      "Trainable params: 100,356\n",
      "Non-trainable params: 14,714,688\n",
      "_________________________________________________________________\n"
     ]
    }
   ],
   "source": [
    "model.summary()"
   ]
  },
  {
   "cell_type": "code",
   "execution_count": 19,
   "id": "4282560a",
   "metadata": {},
   "outputs": [],
   "source": [
    "model.compile(loss='categorical_crossentropy',\n",
    "              optimizer='adam',\n",
    "              metrics=['accuracy'])"
   ]
  },
  {
   "cell_type": "code",
   "execution_count": 20,
   "id": "fcca6adb",
   "metadata": {},
   "outputs": [],
   "source": [
    "train_datagen = ImageDataGenerator(rescale=1./255,\n",
    "                                   shear_range=0.2,\n",
    "                                   zoom_range=0.2,\n",
    "                                   horizontal_flip = True)"
   ]
  },
  {
   "cell_type": "code",
   "execution_count": 21,
   "id": "5ecd79cc",
   "metadata": {},
   "outputs": [],
   "source": [
    "test_datagen = ImageDataGenerator(rescale=1./255)"
   ]
  },
  {
   "cell_type": "code",
   "execution_count": 22,
   "id": "862b0aad",
   "metadata": {},
   "outputs": [
    {
     "name": "stdout",
     "output_type": "stream",
     "text": [
      "Found 660 images belonging to 2 classes.\n"
     ]
    }
   ],
   "source": [
    "training_set = train_datagen.flow_from_directory('Train',\n",
    "                                                 target_size=(224,224),\n",
    "                                                 batch_size = 32,\n",
    "                                                 class_mode = 'categorical')"
   ]
  },
  {
   "cell_type": "code",
   "execution_count": 23,
   "id": "5d699311",
   "metadata": {},
   "outputs": [
    {
     "name": "stdout",
     "output_type": "stream",
     "text": [
      "Found 166 images belonging to 2 classes.\n"
     ]
    }
   ],
   "source": [
    "test_set = test_datagen.flow_from_directory('Test',\n",
    "                                            target_size = (224,224),\n",
    "                                            batch_size = 32,\n",
    "                                            class_mode = 'categorical')"
   ]
  },
  {
   "cell_type": "code",
   "execution_count": 24,
   "id": "af9676c1",
   "metadata": {},
   "outputs": [
    {
     "name": "stdout",
     "output_type": "stream",
     "text": [
      "Epoch 1/20\n",
      "21/21 [==============================] - 111s 5s/step - loss: 0.5561 - accuracy: 0.7364 - val_loss: 0.2034 - val_accuracy: 0.9157\n",
      "Epoch 2/20\n",
      "21/21 [==============================] - 72s 3s/step - loss: 0.2519 - accuracy: 0.9076 - val_loss: 0.2510 - val_accuracy: 0.8976\n",
      "Epoch 3/20\n",
      "21/21 [==============================] - 72s 3s/step - loss: 0.2048 - accuracy: 0.9091 - val_loss: 0.0532 - val_accuracy: 0.9578\n",
      "Epoch 4/20\n",
      "21/21 [==============================] - 72s 3s/step - loss: 0.1709 - accuracy: 0.9318 - val_loss: 0.0297 - val_accuracy: 0.9398\n",
      "Epoch 5/20\n",
      "21/21 [==============================] - 71s 3s/step - loss: 0.1753 - accuracy: 0.9258 - val_loss: 0.2457 - val_accuracy: 0.9458\n",
      "Epoch 6/20\n",
      "21/21 [==============================] - 71s 3s/step - loss: 0.1245 - accuracy: 0.9591 - val_loss: 0.0405 - val_accuracy: 0.9759\n",
      "Epoch 7/20\n",
      "21/21 [==============================] - 71s 3s/step - loss: 0.1115 - accuracy: 0.9621 - val_loss: 0.0816 - val_accuracy: 0.9458\n",
      "Epoch 8/20\n",
      "21/21 [==============================] - 71s 3s/step - loss: 0.0985 - accuracy: 0.9712 - val_loss: 0.4161 - val_accuracy: 0.9458\n",
      "Epoch 9/20\n",
      "21/21 [==============================] - 71s 3s/step - loss: 0.0875 - accuracy: 0.9803 - val_loss: 0.3893 - val_accuracy: 0.9639\n",
      "Epoch 10/20\n",
      "21/21 [==============================] - 71s 3s/step - loss: 0.0872 - accuracy: 0.9712 - val_loss: 0.0254 - val_accuracy: 0.9759\n",
      "Epoch 11/20\n",
      "21/21 [==============================] - 71s 3s/step - loss: 0.0870 - accuracy: 0.9742 - val_loss: 0.0038 - val_accuracy: 0.9819\n",
      "Epoch 12/20\n",
      "21/21 [==============================] - 71s 3s/step - loss: 0.0741 - accuracy: 0.9848 - val_loss: 0.0137 - val_accuracy: 0.9699\n",
      "Epoch 13/20\n",
      "21/21 [==============================] - 71s 3s/step - loss: 0.0755 - accuracy: 0.9742 - val_loss: 0.1304 - val_accuracy: 0.9639\n",
      "Epoch 14/20\n",
      "21/21 [==============================] - 71s 3s/step - loss: 0.0751 - accuracy: 0.9788 - val_loss: 0.0136 - val_accuracy: 0.9277\n",
      "Epoch 15/20\n",
      "21/21 [==============================] - 71s 3s/step - loss: 0.0765 - accuracy: 0.9742 - val_loss: 0.0495 - val_accuracy: 0.9699\n",
      "Epoch 16/20\n",
      "21/21 [==============================] - 71s 3s/step - loss: 0.0574 - accuracy: 0.9833 - val_loss: 0.0023 - val_accuracy: 0.9699\n",
      "Epoch 17/20\n",
      "21/21 [==============================] - 71s 3s/step - loss: 0.0559 - accuracy: 0.9833 - val_loss: 0.4368 - val_accuracy: 0.9639\n",
      "Epoch 18/20\n",
      "21/21 [==============================] - 72s 3s/step - loss: 0.0492 - accuracy: 0.9879 - val_loss: 4.8455e-05 - val_accuracy: 0.9699\n",
      "Epoch 19/20\n",
      "21/21 [==============================] - 71s 3s/step - loss: 0.0539 - accuracy: 0.9833 - val_loss: 0.0018 - val_accuracy: 0.9639\n",
      "Epoch 20/20\n",
      "21/21 [==============================] - 71s 3s/step - loss: 0.0494 - accuracy: 0.9864 - val_loss: 0.1236 - val_accuracy: 0.9699\n"
     ]
    }
   ],
   "source": [
    "#fit the model\n",
    "r = model.fit_generator(training_set,\n",
    "                        validation_data = test_set,\n",
    "                        epochs=20,\n",
    "                        steps_per_epoch = len(training_set),\n",
    "                        validation_steps = len(test_set))"
   ]
  },
  {
   "cell_type": "code",
   "execution_count": 25,
   "id": "b208f243",
   "metadata": {},
   "outputs": [],
   "source": [
    "from keras.models import load_model\n",
    "model.save('drone_bird_vgg16.h5')"
   ]
  },
  {
   "cell_type": "code",
   "execution_count": null,
   "id": "9e9a3e6e",
   "metadata": {},
   "outputs": [],
   "source": []
  }
 ],
 "metadata": {
  "kernelspec": {
   "display_name": "Python 3",
   "language": "python",
   "name": "python3"
  },
  "language_info": {
   "codemirror_mode": {
    "name": "ipython",
    "version": 3
   },
   "file_extension": ".py",
   "mimetype": "text/x-python",
   "name": "python",
   "nbconvert_exporter": "python",
   "pygments_lexer": "ipython3",
   "version": "3.6.13"
  }
 },
 "nbformat": 4,
 "nbformat_minor": 5
}
